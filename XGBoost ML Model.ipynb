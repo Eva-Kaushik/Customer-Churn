{
 "cells": [
  {
   "cell_type": "code",
   "execution_count": null,
   "metadata": {},
   "outputs": [],
   "source": [
    "import pandas as pd"
   ]
  },
  {
   "cell_type": "code",
   "execution_count": null,
   "metadata": {},
   "outputs": [],
   "source": [
    "data = pd.read_csv(r\"Use the desired input file named data\")"
   ]
  },
  {
   "cell_type": "code",
   "execution_count": null,
   "metadata": {},
   "outputs": [],
   "source": [
    "data"
   ]
  },
  {
   "cell_type": "code",
   "execution_count": null,
   "metadata": {},
   "outputs": [],
   "source": [
    "import copy\n",
    "out2 = copy.deepcopy(data)"
   ]
  },
  {
   "cell_type": "code",
   "execution_count": null,
   "metadata": {},
   "outputs": [],
   "source": [
    "out2.fillna(method = 'bfill',inplace = True)\n",
    "out2.fillna(method = 'ffill',inplace = True)\n",
    "out2.isna().sum()[out2.isna().sum()!=0]"
   ]
  },
  {
   "cell_type": "code",
   "execution_count": null,
   "metadata": {},
   "outputs": [],
   "source": [
    "out2.dropna(axis = 1, how = 'all',inplace = True)"
   ]
  },
  {
   "cell_type": "code",
   "execution_count": null,
   "metadata": {},
   "outputs": [],
   "source": [
    "out3 = copy.deepcopy(out2)"
   ]
  },
  {
   "cell_type": "code",
   "execution_count": null,
   "metadata": {},
   "outputs": [],
   "source": [
    "out2"
   ]
  },
  {
   "cell_type": "code",
   "execution_count": null,
   "metadata": {},
   "outputs": [],
   "source": [
    "from sklearn.preprocessing import LabelEncoder\n",
    "le = LabelEncoder()\n",
    "for i in out2.select_dtypes(include = 'object'):\n",
    "    out2[i] = le.fit_transform(out2[i])"
   ]
  },
  {
   "cell_type": "code",
   "execution_count": null,
   "metadata": {},
   "outputs": [],
   "source": [
    "X = out2.drop(['Rule_Matched','churned_revenue','Churn_rate','Customer_Type','Customer_Risk_Level'],axis = 1)\n",
    "y = out2['Customer_Risk_Level']"
   ]
  },
  {
   "cell_type": "code",
   "execution_count": null,
   "metadata": {},
   "outputs": [],
   "source": [
    "data['Customer_Risk_Level'].value_counts()"
   ]
  },
  {
   "cell_type": "code",
   "execution_count": null,
   "metadata": {},
   "outputs": [],
   "source": [
    "from imblearn.over_sampling import SMOTE\n",
    "from sklearn.model_selection import train_test_split\n",
    "from sklearn.metrics import classification_report"
   ]
  },
  {
   "cell_type": "code",
   "execution_count": null,
   "metadata": {},
   "outputs": [],
   "source": [
    "oversampler = SMOTE()\n",
    "\n",
    "X_train_resampled, y_train_resampled = oversampler.fit_resample(X, y)"
   ]
  },
  {
   "cell_type": "code",
   "execution_count": null,
   "metadata": {},
   "outputs": [],
   "source": [
    "from sklearn.model_selection import train_test_split\n",
    "X_train,X_test,y_train,y_test=train_test_split(X_train_resampled,y_train_resampled,test_size=0.2)"
   ]
  },
  {
   "cell_type": "code",
   "execution_count": null,
   "metadata": {},
   "outputs": [],
   "source": [
    "pip install imblearn"
   ]
  },
  {
   "cell_type": "code",
   "execution_count": null,
   "metadata": {},
   "outputs": [],
   "source": [
    "from sklearn.model_selection import train_test_split\n",
    "from sklearn.metrics import classification_report"
   ]
  },
  {
   "cell_type": "code",
   "execution_count": null,
   "metadata": {},
   "outputs": [],
   "source": [
    "from sklearn.ensemble import RandomForestClassifier\n",
    "from sklearn.metrics import classification_report, confusion_matrix"
   ]
  },
  {
   "cell_type": "code",
   "execution_count": null,
   "metadata": {},
   "outputs": [],
   "source": [
    "from sklearn.ensemble import GradientBoostingClassifier"
   ]
  },
  {
   "cell_type": "code",
   "execution_count": null,
   "metadata": {},
   "outputs": [],
   "source": [
    "gb=GradientBoostingClassifier(n_estimators=100,random_state=0)\n",
    "gb.fit(X_train, y_train.ravel())"
   ]
  },
  {
   "cell_type": "code",
   "execution_count": null,
   "metadata": {},
   "outputs": [],
   "source": [
    "y_test_pred=gb.predict(X_test)"
   ]
  },
  {
   "cell_type": "code",
   "execution_count": null,
   "metadata": {},
   "outputs": [],
   "source": [
    "print(classification_report(y_test,y_test_pred))"
   ]
  },
  {
   "cell_type": "code",
   "execution_count": null,
   "metadata": {},
   "outputs": [],
   "source": [
    "#Taking output for whole X dataset\n",
    "y_pred = gb.predict(X)\n",
    "y_pred"
   ]
  },
  {
   "cell_type": "code",
   "execution_count": null,
   "metadata": {},
   "outputs": [],
   "source": [
    "out3"
   ]
  },
  {
   "cell_type": "code",
   "execution_count": null,
   "metadata": {},
   "outputs": [],
   "source": [
    "#Combining Y_pred with actual X dataset after inverse transforming\n",
    "le.fit(out3['Customer_Risk_Level'])\n",
    "predictions = le.inverse_transform(y_pred)\n",
    "out3['predictions'] = predictions"
   ]
  },
  {
   "cell_type": "code",
   "execution_count": null,
   "metadata": {},
   "outputs": [],
   "source": [
    "out3"
   ]
  },
  {
   "cell_type": "code",
   "execution_count": null,
   "metadata": {},
   "outputs": [],
   "source": [
    "def customer_segmentation(row):\n",
    "    # Over Utilizers Rules\n",
    "    if row[\"Credit_Utilization_Rate\"] > 0.8 and row[\"Payment_Timeliness\"] == \"Late\":\n",
    "        return \"Over Utilizer\", \"Rule 1\", \"High\"\n",
    "    elif row[\"Payment_Timeliness\"] == \"Late\" and row[\"Outstanding_Debt\"] > 4000:\n",
    "        return \"Over Utilizer\", \"Rule 2\", \"High\"\n",
    "    elif row[\"Installment_Plan\"] == \"Yes\" and row[\"Outstanding_Debt\"] > 4000:\n",
    "        return \"Over Utilizer\", \"Rule 3\", \"High\"\n",
    "\n",
    "    # Inactive Users Rules\n",
    "    elif row[\"Days_Since_Last_Login\"] > 25 and row[\"Open_Email_Rate\"] < 0.2:\n",
    "        return \"Inactive\", \"Rule 4\", \"High\"\n",
    "    elif row[\"Interaction_ID_count\"] < 2:\n",
    "        return \"Inactive\", \"Rule 5\", \"High\"\n",
    "    elif row[\"Days_Since_Last_Transaction\"] > 30 and row[\"Annual_Fee\"] > 80:\n",
    "        return \"Inactive\", \"Rule 6\", \"High\"\n",
    "\n",
    "    # Complaint-heavy Users\n",
    "    elif row[\"Num_Complaints\"] > 5 and (row[\"Resolution_Status\"] == 'Pending' or row[\"Resolution_Status\"] == 'Escalated'):\n",
    "        return \"Complaint-heavy\", \"Rule 7\", \"High\"\n",
    "    elif row[\"Open_Email_Rate\"] < 0.2 and row[\"Days_Since_Last_Login\"] > 25 and row[\"Num_Complaints\"] > 5:\n",
    "        return \"Complaint-heavy\", \"Rule 8\", \"High\"\n",
    "\n",
    "    # Sporadic Users Rules\n",
    "    elif row[\"Weekend_vs_Weekday_Spending\"] > 8 and row[\"Transaction_Frequency\"] < 5:\n",
    "        return \"Sporadic\", \"Rule 9\", \"Medium\"\n",
    "    elif row[\"Days_Since_Last_Transaction\"] > 300 and row[\"Annual_Fee\"] < 20:\n",
    "        return \"Sporadic\", \"Rule 10\", \"Medium\"\n",
    "    elif row[\"Interaction_ID_count\"] == 1 and row[\"Transaction_Amount\"] < 100:\n",
    "        return \"Sporadic\", \"Rule 11\", \"Medium\"\n",
    "\t\t\n",
    "    # Loyal Users Rules\n",
    "    elif row[\"Interaction_Frequency\"] > 7 and row[\"Payment_History_Length\"] > 5:\n",
    "        return \"Loyal User\", \"Rule 12\", \"Low\"\n",
    "    elif row[\"Reward_Points_Redeemed\"] > 500 and row[\"Satisfaction_Score\"] > 7:\n",
    "        return \"Loyal User\", \"Rule 13\", \"Low\"\n",
    "\n",
    "    # Financially Conscious Users Rules\n",
    "    elif row[\"Credit_Utilization_Rate\"] < 0.2 and row[\"Payment_Timeliness\"] == \"On Time\":\n",
    "        return \"Financially Conscious\", \"Rule 14\", \"Low\"\n",
    "    elif row[\"Payment_to_Income_Ratio\"] > 0.5 and row[\"Outstanding_Debt\"] < 1000:\n",
    "        return \"Financially Conscious\", \"Rule 15\", \"Low\"\n",
    "\n",
    "    # Reward Maximisers Rules\n",
    "    elif row[\"Has_Promotion_Used\"] == \"Yes\" and row[\"Reward_Points_Redeemed\"] > 700:\n",
    "        return \"Reward Maximiser\", \"Rule 16\", \"Low\"\n",
    "    elif row[\"Response_to_Last_Promotion\"] == \"Response1\" and row[\"Social_Media_Follow\"] == \"Yes\":\n",
    "        return \"Reward Maximiser\", \"Rule 17\", \"Low\"\n",
    "\n",
    "    # High Balancers Rules\n",
    "    elif row[\"Current_Balance\"] > 5000 and row[\"Payment_Timeliness\"] in ['Late', 'Very Late']:\n",
    "        return \"High Balancer\", \"Rule 18\", \"Medium\"\n",
    "    elif row[\"Min_Payment\"] < (row[\"Current_Balance\"] * 0.05):\n",
    "        return \"High Balancer\", \"Rule 19\", \"Medium\"\n",
    "    elif row[\"Reward_Points_Earned\"] < 10:\n",
    "        return \"High Balancer\", \"Rule 20\", \"Medium\"\n",
    "\n",
    "    # Low Engagement Rules\n",
    "    elif row[\"Sentiment_Score\"] < -0.5 and row[\"Interaction_ID_count\"] < 5:\n",
    "        return \"Low Engagement\", \"Rule 21\", \"Medium\"\n",
    "    \n",
    "    else:\n",
    "        return \"Regular\", \"None\", \"Not Applicable\"\n",
    "        \n",
    "    return customer_type, rule, risk_level"
   ]
  },
  {
   "cell_type": "code",
   "execution_count": null,
   "metadata": {},
   "outputs": [],
   "source": [
    "out3['Response_to_Last_Promotion'] = None"
   ]
  },
  {
   "cell_type": "code",
   "execution_count": null,
   "metadata": {},
   "outputs": [],
   "source": [
    "out3['Customer_Type'], out3['Rule_Matched'], out3['Customer_Risk_Level'] = zip(*out3.apply(customer_segmentation, axis=1))\n"
   ]
  },
  {
   "cell_type": "code",
   "execution_count": null,
   "metadata": {},
   "outputs": [],
   "source": [
    "out3\n"
   ]
  },
  {
   "cell_type": "code",
   "execution_count": null,
   "metadata": {},
   "outputs": [],
   "source": [
    "import datetime\n",
    "from datetime import timedelta\n",
    "import time\n",
    "from datetime import datetime\n",
    "from datetime import date, timedelta as td\n",
    "import random"
   ]
  },
  {
   "cell_type": "code",
   "execution_count": null,
   "metadata": {},
   "outputs": [],
   "source": [
    "start_date = datetime.datetime(2022, 8, 22)\n",
    "end_date = start_date + timedelta(days=365)\n",
    "out3['Start_Date']=None\n",
    "out3['Start_Date'] = [start_date  (end_date - start_date) * random.random() for i in range(len(out3['Start_Date']))]\n",
    "out3['Start_Date'] = out3['Start_Date'].dt.date\n",
    "out3['Start_Date']"
   ]
  },
  {
   "cell_type": "code",
   "execution_count": null,
   "metadata": {},
   "outputs": [],
   "source": [
    "out3.to_excel(r'outputfile.xlsx', index=False)"
   ]
  }
 ],
 "metadata": {
  "language_info": {
   "name": "python"
  }
 },
 "nbformat": 4,
 "nbformat_minor": 2
}
